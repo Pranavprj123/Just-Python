{
 "cells": [
  {
   "cell_type": "markdown",
   "id": "8776375a",
   "metadata": {},
   "source": [
    "<h1>Functions in Python</h1>"
   ]
  },
  {
   "cell_type": "code",
   "execution_count": 1,
   "id": "d3b707b5",
   "metadata": {},
   "outputs": [],
   "source": [
    "def average(a,b,c):\n",
    "    return (a + b + c) / 3"
   ]
  },
  {
   "cell_type": "code",
   "execution_count": 4,
   "id": "6158d8c8",
   "metadata": {},
   "outputs": [
    {
     "data": {
      "text/plain": [
       "20.0"
      ]
     },
     "execution_count": 4,
     "metadata": {},
     "output_type": "execute_result"
    }
   ],
   "source": [
    "average(5, 2, 3)\n",
    "average(10, 20, 30)"
   ]
  },
  {
   "cell_type": "markdown",
   "id": "626ef634",
   "metadata": {},
   "source": [
    "<h1>Arguments and Return values</h1>"
   ]
  },
  {
   "cell_type": "code",
   "execution_count": 1,
   "id": "42299575",
   "metadata": {},
   "outputs": [],
   "source": [
    "def add(a,b):\n",
    "    return a + b"
   ]
  },
  {
   "cell_type": "code",
   "execution_count": 2,
   "id": "31ec6422",
   "metadata": {},
   "outputs": [
    {
     "data": {
      "text/plain": [
       "7"
      ]
     },
     "execution_count": 2,
     "metadata": {},
     "output_type": "execute_result"
    }
   ],
   "source": [
    "add(5, 2)"
   ]
  },
  {
   "cell_type": "code",
   "execution_count": 5,
   "id": "d0a544b1",
   "metadata": {},
   "outputs": [
    {
     "data": {
      "text/plain": [
       "3.3333333333333335"
      ]
     },
     "execution_count": 5,
     "metadata": {},
     "output_type": "execute_result"
    }
   ],
   "source": [
    "def average(a=5, b=2, c=3):\n",
    "    return (a + b + c) / 3\n",
    "\n",
    "average()\n"
   ]
  },
  {
   "cell_type": "markdown",
   "id": "656907d6",
   "metadata": {},
   "source": [
    "<h2>Lambda Function</h2>"
   ]
  },
  {
   "cell_type": "code",
   "execution_count": 8,
   "id": "aa80dd7e",
   "metadata": {},
   "outputs": [
    {
     "data": {
      "text/plain": [
       "100"
      ]
     },
     "execution_count": 8,
     "metadata": {},
     "output_type": "execute_result"
    }
   ],
   "source": [
    "square = lambda x: x * x\n",
    "square(10)"
   ]
  },
  {
   "cell_type": "code",
   "execution_count": 9,
   "id": "7b2e1b97",
   "metadata": {},
   "outputs": [
    {
     "data": {
      "text/plain": [
       "7"
      ]
     },
     "execution_count": 9,
     "metadata": {},
     "output_type": "execute_result"
    }
   ],
   "source": [
    "sum =  lambda a, b: a + b\n",
    "sum(5, 2)"
   ]
  },
  {
   "cell_type": "markdown",
   "id": "4a3729a1",
   "metadata": {},
   "source": [
    "<h2>Recursion in Python </h2>\n",
    "<h4>Fibonacci Series</h4>"
   ]
  },
  {
   "cell_type": "code",
   "execution_count": null,
   "id": "63846dca",
   "metadata": {},
   "outputs": [
    {
     "name": "stdout",
     "output_type": "stream",
     "text": [
      "0\n",
      "1\n",
      "1\n",
      "2\n",
      "3\n",
      "5\n",
      "8\n"
     ]
    }
   ],
   "source": [
    "def fib(n):\n",
    "    # base case of recursion\n",
    "    if n == 0 or n == 1:\n",
    "        return n\n",
    "    return fib(n - 1) + fib(n - 2)\n",
    "\n",
    "print(fib(0))\n",
    "print(fib(1))\n",
    "print(fib(2))\n",
    "print(fib(3))\n",
    "print(fib(4))\n",
    "print(fib(5))\n",
    "print(fib(6))"
   ]
  },
  {
   "cell_type": "markdown",
   "id": "c67a93c1",
   "metadata": {},
   "source": [
    "<h3>Modules and Pip</h3>"
   ]
  },
  {
   "cell_type": "code",
   "execution_count": 17,
   "id": "d8e6f9ac",
   "metadata": {},
   "outputs": [
    {
     "name": "stdout",
     "output_type": "stream",
     "text": [
      "4.0\n"
     ]
    }
   ],
   "source": [
    "import math\n",
    "\n",
    "print(math.sqrt(16))"
   ]
  },
  {
   "cell_type": "code",
   "execution_count": 20,
   "id": "355c7ddf",
   "metadata": {},
   "outputs": [
    {
     "name": "stdout",
     "output_type": "stream",
     "text": [
      "{'current_user_url': 'https://api.github.com/user', 'current_user_authorizations_html_url': 'https://github.com/settings/connections/applications{/client_id}', 'authorizations_url': 'https://api.github.com/authorizations', 'code_search_url': 'https://api.github.com/search/code?q={query}{&page,per_page,sort,order}', 'commit_search_url': 'https://api.github.com/search/commits?q={query}{&page,per_page,sort,order}', 'emails_url': 'https://api.github.com/user/emails', 'emojis_url': 'https://api.github.com/emojis', 'events_url': 'https://api.github.com/events', 'feeds_url': 'https://api.github.com/feeds', 'followers_url': 'https://api.github.com/user/followers', 'following_url': 'https://api.github.com/user/following{/target}', 'gists_url': 'https://api.github.com/gists{/gist_id}', 'hub_url': 'https://api.github.com/hub', 'issue_search_url': 'https://api.github.com/search/issues?q={query}{&page,per_page,sort,order}', 'issues_url': 'https://api.github.com/issues', 'keys_url': 'https://api.github.com/user/keys', 'label_search_url': 'https://api.github.com/search/labels?q={query}&repository_id={repository_id}{&page,per_page}', 'notifications_url': 'https://api.github.com/notifications', 'organization_url': 'https://api.github.com/orgs/{org}', 'organization_repositories_url': 'https://api.github.com/orgs/{org}/repos{?type,page,per_page,sort}', 'organization_teams_url': 'https://api.github.com/orgs/{org}/teams', 'public_gists_url': 'https://api.github.com/gists/public', 'rate_limit_url': 'https://api.github.com/rate_limit', 'repository_url': 'https://api.github.com/repos/{owner}/{repo}', 'repository_search_url': 'https://api.github.com/search/repositories?q={query}{&page,per_page,sort,order}', 'current_user_repositories_url': 'https://api.github.com/user/repos{?type,page,per_page,sort}', 'starred_url': 'https://api.github.com/user/starred{/owner}{/repo}', 'starred_gists_url': 'https://api.github.com/gists/starred', 'topic_search_url': 'https://api.github.com/search/topics?q={query}{&page,per_page}', 'user_url': 'https://api.github.com/users/{user}', 'user_organizations_url': 'https://api.github.com/user/orgs', 'user_repositories_url': 'https://api.github.com/users/{user}/repos{?type,page,per_page,sort}', 'user_search_url': 'https://api.github.com/search/users?q={query}{&page,per_page,sort,order}'}\n"
     ]
    }
   ],
   "source": [
    "import requests\n",
    "\n",
    "requests.get('https://api.github.com')\n",
    "import json\n",
    "\n",
    "response = requests.get('https://api.github.com')\n",
    "data = response.json()\n",
    "print(data)"
   ]
  },
  {
   "cell_type": "markdown",
   "id": "ff9eeefd",
   "metadata": {},
   "source": [
    "<h3>Function Scope</h3>"
   ]
  },
  {
   "cell_type": "code",
   "execution_count": 9,
   "id": "2b247065",
   "metadata": {},
   "outputs": [
    {
     "data": {
      "text/plain": [
       "7"
      ]
     },
     "execution_count": 9,
     "metadata": {},
     "output_type": "execute_result"
    }
   ],
   "source": [
    "def sum(a,b):\n",
    "    c = a + b\n",
    "    return c\n",
    "\n",
    "\n",
    "sum(5, 2)\n"
   ]
  },
  {
   "cell_type": "markdown",
   "id": "fb67e8d1",
   "metadata": {},
   "source": [
    "<h3>Docstrings</h3>"
   ]
  },
  {
   "cell_type": "code",
   "execution_count": 10,
   "id": "52a8cfbc",
   "metadata": {},
   "outputs": [
    {
     "name": "stdout",
     "output_type": "stream",
     "text": [
      "This function returns the sum of two numbers. \n"
     ]
    }
   ],
   "source": [
    "def sum(a, b):\n",
    "    ''' This function returns the sum of two numbers. '''\n",
    "    return a + b\n",
    "    \n",
    "print(sum.__doc__)"
   ]
  },
  {
   "cell_type": "markdown",
   "id": "ff20d5a3",
   "metadata": {},
   "source": [
    "<h3>Global Keyword</h3>"
   ]
  },
  {
   "cell_type": "code",
   "execution_count": 5,
   "id": "be350bc4",
   "metadata": {},
   "outputs": [
    {
     "name": "stdout",
     "output_type": "stream",
     "text": [
      "hello world\n",
      "10\n"
     ]
    }
   ],
   "source": [
    "def sum(a,b):\n",
    "    print(\"hello world\")\n",
    "    global z\n",
    "    z = 10\n",
    "    return a + b\n",
    "z=12\n",
    "sum(2,3)\n",
    "print(z)"
   ]
  },
  {
   "cell_type": "markdown",
   "id": "dbc568f0",
   "metadata": {},
   "source": [
    "<h2>* List in Python</h2>\n",
    "\n",
    "<h4>Uses Square Brackets [ ]</h4>\n",
    "\n",
    "<p>List stores multiple Data Types. e.g int,float,bool,string <br> List is Ordered and mutable(changable) collection of elements.</p>"
   ]
  },
  {
   "cell_type": "code",
   "execution_count": 6,
   "id": "859b5074",
   "metadata": {},
   "outputs": [
    {
     "name": "stdout",
     "output_type": "stream",
     "text": [
      "10\n",
      "hello\n",
      "[20, 30, 40]\n"
     ]
    }
   ],
   "source": [
    "marks = [10, 20, 30, 40, 50]\n",
    "mixed = [10, \"hello\", 20.5, True]\n",
    "\n",
    "print(marks[0])\n",
    "print(mixed[1])\n",
    "print(marks[1:4])"
   ]
  },
  {
   "cell_type": "markdown",
   "id": "bef080f9",
   "metadata": {},
   "source": [
    "<h2>List of Methods</h2>"
   ]
  },
  {
   "cell_type": "code",
   "execution_count": 14,
   "id": "71ab6050",
   "metadata": {},
   "outputs": [
    {
     "name": "stdout",
     "output_type": "stream",
     "text": [
      "[10, 20, 30, 40, 50, 60]\n"
     ]
    }
   ],
   "source": [
    "# marks.append(70)\n",
    "# marks.pop()\n",
    "marks.sort()\n",
    "print(marks)\n"
   ]
  },
  {
   "cell_type": "markdown",
   "id": "0d347a39",
   "metadata": {},
   "source": [
    "<h3>List Comprehension</h3>"
   ]
  },
  {
   "cell_type": "code",
   "execution_count": 17,
   "id": "48eb6ebd",
   "metadata": {},
   "outputs": [
    {
     "name": "stdout",
     "output_type": "stream",
     "text": [
      "[5, 10, 15, 20, 25, 30, 35, 40, 45, 50]\n"
     ]
    }
   ],
   "source": [
    "# table =[]\n",
    "\n",
    "# for i in range(1,11):\n",
    "#     table.append(5 * i)\n",
    "# print(table)\n",
    "\n",
    "\n",
    "table = [5 * i for i in range(1, 11)]\n",
    "print(table)"
   ]
  },
  {
   "cell_type": "markdown",
   "id": "aa09f5b6",
   "metadata": {},
   "source": [
    "<h2>Tuples and Operations on tuples.</h2>\n",
    "<p>Tuples are ordered but immutable(cannot be changed after creation.) <br> For creating tuple we need Angular Brackets ( ) <br> If you need to create a single element with the tuple you required to put comma at the end a = (5,)</p>"
   ]
  },
  {
   "cell_type": "code",
   "execution_count": 20,
   "id": "56fcbb03",
   "metadata": {},
   "outputs": [
    {
     "name": "stdout",
     "output_type": "stream",
     "text": [
      "(1, 2, 3, 4, 5)\n",
      "1\n",
      "(2, 3, 4)\n"
     ]
    }
   ],
   "source": [
    "my_tuple = (1, 2, 3, 4, 5)\n",
    "print(my_tuple)\n",
    "print(my_tuple[0])\n",
    "print(my_tuple[1:4])"
   ]
  },
  {
   "cell_type": "markdown",
   "id": "10593ff7",
   "metadata": {},
   "source": [
    "<h5>Tuple unpacking.</h5>"
   ]
  },
  {
   "cell_type": "code",
   "execution_count": 21,
   "id": "341d1216",
   "metadata": {},
   "outputs": [
    {
     "name": "stdout",
     "output_type": "stream",
     "text": [
      "1 2 3 4 5\n"
     ]
    }
   ],
   "source": [
    "tu = (1, 2, 3, 4, 5)\n",
    "\n",
    "a, b, c, d, e = tu\n",
    "print(a, b, c, d, e)"
   ]
  },
  {
   "cell_type": "markdown",
   "id": "a726e4d0",
   "metadata": {},
   "source": [
    "<h4>Tuple Methods</h4>"
   ]
  },
  {
   "cell_type": "code",
   "execution_count": 22,
   "id": "b49dc460",
   "metadata": {},
   "outputs": [
    {
     "name": "stdout",
     "output_type": "stream",
     "text": [
      "3\n",
      "2\n"
     ]
    }
   ],
   "source": [
    "t = (1, 2, 3, 4, 5, 1, 1)\n",
    "print(t.count(1))\n",
    "print(t.index(3))"
   ]
  },
  {
   "cell_type": "markdown",
   "id": "1bfcaddf",
   "metadata": {},
   "source": [
    "<h2>Sets</h2>\n",
    "<p>Sets is the collections of well defined objects.<br> Sets are unordered unique collections(no duplicates). <br>Sets represents with the curly brackets. { } </p>"
   ]
  },
  {
   "cell_type": "code",
   "execution_count": 1,
   "id": "43a0bac5",
   "metadata": {},
   "outputs": [
    {
     "name": "stdout",
     "output_type": "stream",
     "text": [
      "{1, 2, 3, 4, 5}\n"
     ]
    }
   ],
   "source": [
    "my_set = {1, 2, 3, 4, 5}\n",
    "print(my_set)"
   ]
  },
  {
   "cell_type": "markdown",
   "id": "f8b7be9c",
   "metadata": {},
   "source": [
    "<h4>Sets Methods</h4>"
   ]
  },
  {
   "cell_type": "code",
   "execution_count": null,
   "id": "3035fa4e",
   "metadata": {},
   "outputs": [
    {
     "name": "stdout",
     "output_type": "stream",
     "text": [
      "{1, 3, 4, 5, 6, 7, 8, 9, 10}\n"
     ]
    }
   ],
   "source": [
    "my_set.add(7)\n",
    "my_set.remove(2)\n",
    "my_set.update([8, 9, 10])\n",
    "my_set.discard(3)\n",
    "my_set.clear()\n",
    "\n",
    "print(my_set)"
   ]
  },
  {
   "cell_type": "markdown",
   "id": "901e5a68",
   "metadata": {},
   "source": [
    "<h4>Sets Operations</h4>"
   ]
  },
  {
   "cell_type": "code",
   "execution_count": 10,
   "id": "a859db83",
   "metadata": {},
   "outputs": [
    {
     "name": "stdout",
     "output_type": "stream",
     "text": [
      "{1, 2, 3, 4, 5, 6, 7, 8}\n"
     ]
    }
   ],
   "source": [
    "m_set = {1, 2, 3, 4, 5,6}\n",
    "n_set = {4, 5, 6, 7, 8,1,2,4, 3}\n",
    "c = m_set.union(n_set)\n",
    "print(c)"
   ]
  },
  {
   "cell_type": "code",
   "execution_count": 11,
   "id": "ce41e68b",
   "metadata": {},
   "outputs": [
    {
     "name": "stdout",
     "output_type": "stream",
     "text": [
      "{1, 2, 3, 4, 5, 6}\n"
     ]
    }
   ],
   "source": [
    "d = m_set.intersection(n_set)\n",
    "print(d)"
   ]
  },
  {
   "cell_type": "markdown",
   "id": "e8597840",
   "metadata": {},
   "source": [
    "<h2>Dictionary in Python </h2>"
   ]
  },
  {
   "cell_type": "code",
   "execution_count": 12,
   "id": "b199e059",
   "metadata": {},
   "outputs": [
    {
     "name": "stdout",
     "output_type": "stream",
     "text": [
      "{'name': 'John', 'age': 30, 'city': 'New York'}\n"
     ]
    }
   ],
   "source": [
    "my_dict = {\n",
    "    \"name\": \"John\",\n",
    "    \"age\": 30,\n",
    "    \"city\": \"New York\"\n",
    "}\n",
    "print(my_dict)"
   ]
  },
  {
   "cell_type": "code",
   "execution_count": 14,
   "id": "3e983047",
   "metadata": {},
   "outputs": [
    {
     "name": "stdout",
     "output_type": "stream",
     "text": [
      "John\n",
      "{'name': 'John', 'age': 31, 'city': 'New York'}\n"
     ]
    }
   ],
   "source": [
    "print(my_dict[\"name\"])\n",
    "my_dict[\"age\"] = 31\n",
    "print(my_dict)"
   ]
  },
  {
   "cell_type": "markdown",
   "id": "52badac9",
   "metadata": {},
   "source": [
    "<h4>Dictionaries Methods </h4>"
   ]
  },
  {
   "cell_type": "code",
   "execution_count": 19,
   "id": "4166d67f",
   "metadata": {},
   "outputs": [
    {
     "name": "stdout",
     "output_type": "stream",
     "text": [
      "dict_keys(['name', 'age', 'city'])\n",
      "dict_values(['John', 31, 'New York'])\n",
      "dict_items([('name', 'John'), ('age', 31), ('city', 'New York')])\n"
     ]
    }
   ],
   "source": [
    "print(my_dict.keys())\n",
    "print(my_dict.values())\n",
    "print(my_dict.items())"
   ]
  },
  {
   "cell_type": "markdown",
   "id": "99b8665e",
   "metadata": {},
   "source": [
    "<h4>Dictionary Comprehension</h4>"
   ]
  },
  {
   "cell_type": "code",
   "execution_count": 22,
   "id": "6b5e14e9",
   "metadata": {},
   "outputs": [
    {
     "name": "stdout",
     "output_type": "stream",
     "text": [
      "{1: 1, 2: 4, 3: 9, 4: 16, 5: 25}\n"
     ]
    }
   ],
   "source": [
    "square_dict = {x: x ** 2 for x in range(1, 6)}\n",
    "print(square_dict)"
   ]
  },
  {
   "cell_type": "markdown",
   "id": "ebe9c496",
   "metadata": {},
   "source": [
    "<h1>Oops in Python</h1>\n",
    "<h5>Four Pillars of OOP <br>- A-Abstraction <br>- P-Polymorphism <br>- I-Inheritance <br>- E-Encapsulation </h5>\n",
    "<p>Object-Oriented Programming (OOP) in Python is a programming paradigm that organizes code into reusable and modular structures called objects. It allows developers to model real-world entities and their interactions, making code more intuitive, maintainable, and scalable.</p>\n",
    "\n",
    "<h4>Class</h4>\n",
    "<p>Class is a blueprint or template. E.g. Form for an exam that contains name, age, electives, father's name, etc..</p>\n",
    "<h4>Objects</h4>\n",
    "<p>Specific instance created from the template.(class) Eg. Form which contains the data for John Doe.\n",
    " </p>\n"
   ]
  },
  {
   "cell_type": "code",
   "execution_count": 3,
   "id": "9d30fbe3",
   "metadata": {},
   "outputs": [
    {
     "name": "stdout",
     "output_type": "stream",
     "text": [
      "TechCorp\n",
      "60000\n"
     ]
    }
   ],
   "source": [
    "#classes and objects\n",
    "class Employee:\n",
    "    company = \"TechCorp\"\n",
    "\n",
    "    def get_salary(self):  #self is important here because self is a way to refrence the object of the class which is being created\n",
    "        return 60000\n",
    "\n",
    "virat = Employee() #An object of Employee class Employee created here\n",
    "print(virat.company) \n",
    "print(virat.get_salary()) #Employee e's get_salary method called here"
   ]
  },
  {
   "cell_type": "markdown",
   "id": "4457794d",
   "metadata": {},
   "source": [
    "<h3>Constructors in Python</h3>\n",
    "<p>A constructor in Python is a special method that is automatically called when an instance (object) of a class is created. The primary purpose of a constructor is to initialize the attributes of the object. In Python, the constructor method is defined using the __init__() method.</p>"
   ]
  },
  {
   "cell_type": "code",
   "execution_count": null,
   "id": "7c2fc81d",
   "metadata": {},
   "outputs": [
    {
     "name": "stdout",
     "output_type": "stream",
     "text": [
      "John\n",
      "Don\n",
      "50000\n",
      "40000\n",
      "The Employee Name is: John, Age: 30, Salary: 50000, Bond: 2\n",
      "The Employee Name is: Don, Age: 25, Salary: 40000, Bond: 1\n"
     ]
    }
   ],
   "source": [
    "class Employee:\n",
    "    def __init__(self, name, age, salary, bond):  #Constructor method to initialize the object\n",
    "        self.name = name\n",
    "        self.age = age\n",
    "        self.salary = salary #created an instance attribute of name salary and assigned it with salary\n",
    "        self.bond = bond    \n",
    "\n",
    "    def get_salary(self):  #self is important here because self is a way to refrence the object of the class which is being created\n",
    "        return self.salary\n",
    "    \n",
    "    def get_info(self):\n",
    "        return f\"The Employee Name is: {self.name}, Age: {self.age}, Salary: {self.salary}, Bond: {self.bond}\"\n",
    "    \n",
    "e = Employee(\"John\", 30, 50000, 2)  #An object of Employee class Employee created here\n",
    "e1 = Employee(\"Don\", 25, 40000, 1)  \n",
    "print(e.name)  #Accessing the instance attribute name\n",
    "print(e1.name)  #Accessing the instance attribute name of another object\n",
    "print(e.get_salary())  \n",
    "print(e1.get_salary())  \n",
    "\n",
    "print(e.get_info())  #Calling the get_info method to get all the information of the employee\n",
    "print(e1.get_info())  "
   ]
  },
  {
   "cell_type": "markdown",
   "id": "5997ba21",
   "metadata": {},
   "source": [
    "<h4>Instance and Class attribute.</h4>"
   ]
  },
  {
   "cell_type": "code",
   "execution_count": null,
   "id": "a6037716",
   "metadata": {},
   "outputs": [
    {
     "name": "stdout",
     "output_type": "stream",
     "text": [
      "<__main__.Employee object at 0x0000026864601400>\n",
      "Tesla\n",
      "Maruti\n"
     ]
    }
   ],
   "source": [
    "class Employee:\n",
    "    company = \"Asus\"\n",
    "\n",
    "    def __init__(self, name, age, salary, bond, company):  #Constructor method to initialize the object\n",
    "        self.name = name\n",
    "        self.age = age\n",
    "        self.salary = salary #created an instance attribute of name salary and assigned it with salary\n",
    "        self.bond = bond\n",
    "        self.company = company      \n",
    "\n",
    "    def get_salary(self):  #self is important here because self is a way to refrence the object of the class which is being created\n",
    "        return self.salary\n",
    "    \n",
    "    def get_info(self):\n",
    "        return f\"The Employee Name is: {self.name}, Age: {self.age}, Salary: {self.salary}, Bond: {self.bond}\"\n",
    "    \n",
    "e = Employee(\"John\", 30, 50000, 2,\"Tesla\")  #An object of Employee class Employee created here\n",
    "e1 = Employee(\"Don\", 25, 40000, 1,\"Maruti\") \n",
    "\n",
    "print(e.company)  \n",
    "print(e1.company)  "
   ]
  },
  {
   "cell_type": "markdown",
   "id": "57052bf0",
   "metadata": {},
   "source": [
    "<h4>Inheritance in Python.</h4>"
   ]
  },
  {
   "cell_type": "code",
   "execution_count": 11,
   "id": "d117fd23",
   "metadata": {},
   "outputs": [
    {
     "name": "stdout",
     "output_type": "stream",
     "text": [
      "Animal speaks\n",
      "Bruno says Woof!\n"
     ]
    }
   ],
   "source": [
    "class Animal:\n",
    "    def __init__(self,name):\n",
    "        self.name = name\n",
    "        \n",
    "    def speak(self):\n",
    "        print('Animal speaks')\n",
    "\n",
    "class Dog(Animal):\n",
    "    def speak(self):\n",
    "        super().speak()  # Call the parent class method\n",
    "        print(f\"{self.name} says Woof!\")\n",
    "\n",
    "d = Dog(\"Bruno\")\n",
    "d.speak()"
   ]
  },
  {
   "cell_type": "markdown",
   "id": "412d7de7",
   "metadata": {},
   "source": [
    "<h4>Operator Overloading.</h4>"
   ]
  },
  {
   "cell_type": "code",
   "execution_count": 27,
   "id": "31cd78cf",
   "metadata": {},
   "outputs": [
    {
     "name": "stdout",
     "output_type": "stream",
     "text": [
      "Point(8, 5)\n"
     ]
    }
   ],
   "source": [
    "class Point:\n",
    "    def __init__(self, x, y):\n",
    "        self.x = x\n",
    "        self.y = y\n",
    "    def sum(self,p):\n",
    "        return Point(self.x + p.x, self.y + p.y)\n",
    "\n",
    "    def print_point(self):\n",
    "        print(f\"Point({self.x}, {self.y})\")   \n",
    "\n",
    "p1 = Point(3, 2)\n",
    "p2 = Point(5, 3)\n",
    "\n",
    "p = p1.sum(p2)\n",
    "p.print_point()  # Output: Point(8, 5)"
   ]
  }
 ],
 "metadata": {
  "kernelspec": {
   "display_name": "Python 3",
   "language": "python",
   "name": "python3"
  },
  "language_info": {
   "codemirror_mode": {
    "name": "ipython",
    "version": 3
   },
   "file_extension": ".py",
   "mimetype": "text/x-python",
   "name": "python",
   "nbconvert_exporter": "python",
   "pygments_lexer": "ipython3",
   "version": "3.13.4"
  }
 },
 "nbformat": 4,
 "nbformat_minor": 5
}
