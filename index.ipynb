{
 "cells": [
  {
   "cell_type": "markdown",
   "id": "8776375a",
   "metadata": {},
   "source": [
    "<h1>Functions in Python</h1>"
   ]
  },
  {
   "cell_type": "code",
   "execution_count": 1,
   "id": "d3b707b5",
   "metadata": {},
   "outputs": [],
   "source": [
    "def average(a,b,c):\n",
    "    return (a + b + c) / 3"
   ]
  },
  {
   "cell_type": "code",
   "execution_count": 4,
   "id": "6158d8c8",
   "metadata": {},
   "outputs": [
    {
     "data": {
      "text/plain": [
       "20.0"
      ]
     },
     "execution_count": 4,
     "metadata": {},
     "output_type": "execute_result"
    }
   ],
   "source": [
    "average(5, 2, 3)\n",
    "average(10, 20, 30)"
   ]
  }
 ],
 "metadata": {
  "kernelspec": {
   "display_name": "Python 3",
   "language": "python",
   "name": "python3"
  },
  "language_info": {
   "codemirror_mode": {
    "name": "ipython",
    "version": 3
   },
   "file_extension": ".py",
   "mimetype": "text/x-python",
   "name": "python",
   "nbconvert_exporter": "python",
   "pygments_lexer": "ipython3",
   "version": "3.13.4"
  }
 },
 "nbformat": 4,
 "nbformat_minor": 5
}
