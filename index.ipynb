{
 "cells": [
  {
   "cell_type": "markdown",
   "id": "8776375a",
   "metadata": {},
   "source": [
    "<h1>Functions in Python</h1>"
   ]
  },
  {
   "cell_type": "code",
   "execution_count": 1,
   "id": "d3b707b5",
   "metadata": {},
   "outputs": [],
   "source": [
    "def average(a,b,c):\n",
    "    return (a + b + c) / 3"
   ]
  },
  {
   "cell_type": "code",
   "execution_count": 4,
   "id": "6158d8c8",
   "metadata": {},
   "outputs": [
    {
     "data": {
      "text/plain": [
       "20.0"
      ]
     },
     "execution_count": 4,
     "metadata": {},
     "output_type": "execute_result"
    }
   ],
   "source": [
    "average(5, 2, 3)\n",
    "average(10, 20, 30)"
   ]
  },
  {
   "cell_type": "markdown",
   "id": "626ef634",
   "metadata": {},
   "source": [
    "<h1>Arguments and Return values</h1>"
   ]
  },
  {
   "cell_type": "code",
   "execution_count": 1,
   "id": "42299575",
   "metadata": {},
   "outputs": [],
   "source": [
    "def add(a,b):\n",
    "    return a + b"
   ]
  },
  {
   "cell_type": "code",
   "execution_count": 2,
   "id": "31ec6422",
   "metadata": {},
   "outputs": [
    {
     "data": {
      "text/plain": [
       "7"
      ]
     },
     "execution_count": 2,
     "metadata": {},
     "output_type": "execute_result"
    }
   ],
   "source": [
    "add(5, 2)"
   ]
  },
  {
   "cell_type": "code",
   "execution_count": 5,
   "id": "d0a544b1",
   "metadata": {},
   "outputs": [
    {
     "data": {
      "text/plain": [
       "3.3333333333333335"
      ]
     },
     "execution_count": 5,
     "metadata": {},
     "output_type": "execute_result"
    }
   ],
   "source": [
    "def average(a=5, b=2, c=3):\n",
    "    return (a + b + c) / 3\n",
    "\n",
    "average()\n"
   ]
  },
  {
   "cell_type": "markdown",
   "id": "656907d6",
   "metadata": {},
   "source": [
    "<h2>Lambda Function</h2>"
   ]
  },
  {
   "cell_type": "code",
   "execution_count": 8,
   "id": "aa80dd7e",
   "metadata": {},
   "outputs": [
    {
     "data": {
      "text/plain": [
       "100"
      ]
     },
     "execution_count": 8,
     "metadata": {},
     "output_type": "execute_result"
    }
   ],
   "source": [
    "square = lambda x: x * x\n",
    "square(10)"
   ]
  },
  {
   "cell_type": "code",
   "execution_count": 9,
   "id": "7b2e1b97",
   "metadata": {},
   "outputs": [
    {
     "data": {
      "text/plain": [
       "7"
      ]
     },
     "execution_count": 9,
     "metadata": {},
     "output_type": "execute_result"
    }
   ],
   "source": [
    "sum =  lambda a, b: a + b\n",
    "sum(5, 2)"
   ]
  },
  {
   "cell_type": "markdown",
   "id": "4a3729a1",
   "metadata": {},
   "source": [
    "<h2>Recursion in Python </h2>\n",
    "<h4>Fibonacci Series</h4>"
   ]
  },
  {
   "cell_type": "code",
   "execution_count": null,
   "id": "63846dca",
   "metadata": {},
   "outputs": [
    {
     "name": "stdout",
     "output_type": "stream",
     "text": [
      "0\n",
      "1\n",
      "1\n",
      "2\n",
      "3\n",
      "5\n",
      "8\n"
     ]
    }
   ],
   "source": [
    "def fib(n):\n",
    "    # base case of recursion\n",
    "    if n == 0 or n == 1:\n",
    "        return n\n",
    "    return fib(n - 1) + fib(n - 2)\n",
    "\n",
    "print(fib(0))\n",
    "print(fib(1))\n",
    "print(fib(2))\n",
    "print(fib(3))\n",
    "print(fib(4))\n",
    "print(fib(5))\n",
    "print(fib(6))"
   ]
  },
  {
   "cell_type": "markdown",
   "id": "c67a93c1",
   "metadata": {},
   "source": [
    "<h3>Modules and Pip</h3>"
   ]
  },
  {
   "cell_type": "code",
   "execution_count": 17,
   "id": "d8e6f9ac",
   "metadata": {},
   "outputs": [
    {
     "name": "stdout",
     "output_type": "stream",
     "text": [
      "4.0\n"
     ]
    }
   ],
   "source": [
    "import math\n",
    "\n",
    "print(math.sqrt(16))"
   ]
  },
  {
   "cell_type": "code",
   "execution_count": 20,
   "id": "355c7ddf",
   "metadata": {},
   "outputs": [
    {
     "name": "stdout",
     "output_type": "stream",
     "text": [
      "{'current_user_url': 'https://api.github.com/user', 'current_user_authorizations_html_url': 'https://github.com/settings/connections/applications{/client_id}', 'authorizations_url': 'https://api.github.com/authorizations', 'code_search_url': 'https://api.github.com/search/code?q={query}{&page,per_page,sort,order}', 'commit_search_url': 'https://api.github.com/search/commits?q={query}{&page,per_page,sort,order}', 'emails_url': 'https://api.github.com/user/emails', 'emojis_url': 'https://api.github.com/emojis', 'events_url': 'https://api.github.com/events', 'feeds_url': 'https://api.github.com/feeds', 'followers_url': 'https://api.github.com/user/followers', 'following_url': 'https://api.github.com/user/following{/target}', 'gists_url': 'https://api.github.com/gists{/gist_id}', 'hub_url': 'https://api.github.com/hub', 'issue_search_url': 'https://api.github.com/search/issues?q={query}{&page,per_page,sort,order}', 'issues_url': 'https://api.github.com/issues', 'keys_url': 'https://api.github.com/user/keys', 'label_search_url': 'https://api.github.com/search/labels?q={query}&repository_id={repository_id}{&page,per_page}', 'notifications_url': 'https://api.github.com/notifications', 'organization_url': 'https://api.github.com/orgs/{org}', 'organization_repositories_url': 'https://api.github.com/orgs/{org}/repos{?type,page,per_page,sort}', 'organization_teams_url': 'https://api.github.com/orgs/{org}/teams', 'public_gists_url': 'https://api.github.com/gists/public', 'rate_limit_url': 'https://api.github.com/rate_limit', 'repository_url': 'https://api.github.com/repos/{owner}/{repo}', 'repository_search_url': 'https://api.github.com/search/repositories?q={query}{&page,per_page,sort,order}', 'current_user_repositories_url': 'https://api.github.com/user/repos{?type,page,per_page,sort}', 'starred_url': 'https://api.github.com/user/starred{/owner}{/repo}', 'starred_gists_url': 'https://api.github.com/gists/starred', 'topic_search_url': 'https://api.github.com/search/topics?q={query}{&page,per_page}', 'user_url': 'https://api.github.com/users/{user}', 'user_organizations_url': 'https://api.github.com/user/orgs', 'user_repositories_url': 'https://api.github.com/users/{user}/repos{?type,page,per_page,sort}', 'user_search_url': 'https://api.github.com/search/users?q={query}{&page,per_page,sort,order}'}\n"
     ]
    }
   ],
   "source": [
    "import requests\n",
    "\n",
    "requests.get('https://api.github.com')\n",
    "import json\n",
    "\n",
    "response = requests.get('https://api.github.com')\n",
    "data = response.json()\n",
    "print(data)"
   ]
  },
  {
   "cell_type": "markdown",
   "id": "ff9eeefd",
   "metadata": {},
   "source": [
    "<h3>Function Scope</h3>"
   ]
  },
  {
   "cell_type": "code",
   "execution_count": 9,
   "id": "2b247065",
   "metadata": {},
   "outputs": [
    {
     "data": {
      "text/plain": [
       "7"
      ]
     },
     "execution_count": 9,
     "metadata": {},
     "output_type": "execute_result"
    }
   ],
   "source": [
    "def sum(a,b):\n",
    "    c = a + b\n",
    "    return c\n",
    "\n",
    "\n",
    "sum(5, 2)\n"
   ]
  },
  {
   "cell_type": "markdown",
   "id": "fb67e8d1",
   "metadata": {},
   "source": [
    "<h3>Docstrings</h3>"
   ]
  },
  {
   "cell_type": "code",
   "execution_count": 10,
   "id": "52a8cfbc",
   "metadata": {},
   "outputs": [
    {
     "name": "stdout",
     "output_type": "stream",
     "text": [
      "This function returns the sum of two numbers. \n"
     ]
    }
   ],
   "source": [
    "def sum(a, b):\n",
    "    ''' This function returns the sum of two numbers. '''\n",
    "    return a + b\n",
    "    \n",
    "print(sum.__doc__)"
   ]
  },
  {
   "cell_type": "markdown",
   "id": "ff20d5a3",
   "metadata": {},
   "source": [
    "<h3>Global Keyword</h3>"
   ]
  },
  {
   "cell_type": "code",
   "execution_count": 5,
   "id": "be350bc4",
   "metadata": {},
   "outputs": [
    {
     "name": "stdout",
     "output_type": "stream",
     "text": [
      "hello world\n",
      "10\n"
     ]
    }
   ],
   "source": [
    "def sum(a,b):\n",
    "    print(\"hello world\")\n",
    "    global z\n",
    "    z = 10\n",
    "    return a + b\n",
    "z=12\n",
    "sum(2,3)\n",
    "print(z)"
   ]
  }
 ],
 "metadata": {
  "kernelspec": {
   "display_name": "Python 3",
   "language": "python",
   "name": "python3"
  },
  "language_info": {
   "codemirror_mode": {
    "name": "ipython",
    "version": 3
   },
   "file_extension": ".py",
   "mimetype": "text/x-python",
   "name": "python",
   "nbconvert_exporter": "python",
   "pygments_lexer": "ipython3",
   "version": "3.13.4"
  }
 },
 "nbformat": 4,
 "nbformat_minor": 5
}
